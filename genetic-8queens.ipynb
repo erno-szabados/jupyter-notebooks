{
 "cells": [
  {
   "attachments": {},
   "cell_type": "markdown",
   "metadata": {},
   "source": [
    "# Genetic Algorithms - The 8-Queens problem\n",
    "\n",
    "Place eight queens on a 8x8 chessboard so that none of them threat each other. There are many solutions (backtracking,...). Here it is a GA approach.\n",
    "\n",
    "Based on:\n",
    "\n",
    "[Genetic Algorithm from Scratch in Python - Davide Anghileri](https://www.youtube.com/watch?v=c-B5mIq04bg)\n",
    "\n",
    "### Encoding: \n",
    "\n",
    "Represent a solution as **string of bits**. (this is the hardest part)\n",
    "\n",
    "Binary matrix: Simplest (usually first idea): 0s represent empty cells, 1s represent queens. Not efficient, a lot of possible arrangements (4426165368).\n",
    "\n",
    "||a|b|c|d|e|f|g|h|\n",
    "|-|-|-|-|-|-|-|-|-|\n",
    "|**8**|0|0|0|0|0|1|0|0|\n",
    "|**7**|0|0|0|1|0|0|0|0|\n",
    "|**6**|0|0|0|0|0|0|1|0|\n",
    "|**5**|1|0|0|0|0|0|0|0|\n",
    "|**4**|0|0|0|0|0|0|0|1|\n",
    "|**3**|0|1|0|0|0|0|0|0|\n",
    "|**2**|0|0|0|0|1|0|0|0|\n",
    "|**1**|0|0|1|0|0|0|0|0|\n",
    "\n",
    "Permutation encoding (for the above matrix):\n",
    "\n",
    "|a|b|c|d|e|f|g|h|\n",
    "|-|-|-|-|-|-|-|-|\n",
    "|5|3|1|7|2|8|6|4|\n",
    "\n",
    "Stores the row of the queen in the corresponding column. More efficient, avoids invalid solutions where queens are on the same row by design (*only **40320** solutions*).\n",
    "\n"
   ]
  },
  {
   "cell_type": "code",
   "execution_count": null,
   "metadata": {},
   "outputs": [],
   "source": [
    "# Install dependencies for implementation\n",
    "%pip install sklearn-genetic\n",
    "%pip install numpy"
   ]
  },
  {
   "attachments": {},
   "cell_type": "markdown",
   "metadata": {},
   "source": [
    "### Code Concepts\n",
    "\n",
    "* [typing — Support for type hints](https://docs.python.org/3/library/typing.html)\n",
    "* [PEP 613 – Explicit Type Aliases](https://peps.python.org/pep-0613/)\n",
    "* [Partial functions](https://www.learnpython.org/en/Partial_functions)"
   ]
  },
  {
   "cell_type": "code",
   "execution_count": 10,
   "metadata": {},
   "outputs": [],
   "source": [
    "# Bottom-up approach\n",
    "\n",
    "# implement various genetic operators and then combine them to an algorithm\n",
    "# def genetic_algorithm()\n",
    "# population\n",
    "# fitness\n",
    "# loop until\n",
    "#   selection ->(roulette with selection)\n",
    "#   crossover\n",
    "#   mutation\n",
    "#   fitness\n",
    "# return best\n",
    "\n",
    "import random\n",
    "from typing import TypeAlias, Callable\n",
    "from functools import partial\n",
    "\n",
    "Individual: TypeAlias =  list[int] # each individual is a possible solution\n",
    "IndividualPair: TypeAlias = tuple[Individual, Individual]\n",
    "Population: TypeAlias = list[Individual] # simply a list of random individuals\n",
    "FitnessFunc: TypeAlias = Callable[[Individual], int]\n",
    "SelectionFunc: TypeAlias = Callable[[Population, FitnessFunc], IndividualPair]\n",
    "CrossoverFunc: TypeAlias = Callable[[IndividualPair], IndividualPair]\n",
    "MutationFunc: TypeAlias = Callable[[Individual, float], Individual]\n",
    "\n",
    "def generate_individual(length: int) -> Individual:\n",
    "    # randomly shuffle a list of 1..8 numbers\n",
    "    random.shuffle(individual := list(range(1,length + 1)))\n",
    "    return individual\n",
    "\n",
    "# pop_size is a hyperparameter (controls the optimization process), \n",
    "# should be tuned for an optimal value.\n",
    "def generate_population(pop_size: int, individual_length: int) -> Population:\n",
    "    return [generate_individual(individual_length) for _ in range(pop_size)]\n",
    "\n",
    "# Fitness function: number of clashes (queens that threaten each other), \n",
    "# the lower the better = minimization problem\n",
    "# How to count clashes? Permutation encoding eliminates row and column shuffles, \n",
    "# so diagonals must be counted only.\n",
    "# clash: absolute difference in row position = absolute difference in column position.\n",
    "def fitness(individual: Individual) -> int:\n",
    "    clashes = 0\n",
    "    for i in range(len(individual) - 1):\n",
    "        # starts at i + 1, so we do not count the same clash twice\n",
    "        for j in range(i + 1, len(individual)):\n",
    "            # row == col?\n",
    "            if abs(individual[j] - individual[i]) == j - i:\n",
    "                clashes += 1\n",
    "    return clashes\n",
    "\n",
    "# Fitness for worst solutions(2): 28 = 7+6+5+4+3+2+1\n",
    "# There are 92 optimal solutions, where fitness == 0"
   ]
  },
  {
   "attachments": {},
   "cell_type": "markdown",
   "metadata": {},
   "source": [
    "### Roulette with Selection\n",
    "\n",
    "- fitter individuals have larger chance to be selected to be parents (for next generation)\n",
    "- selection chance is proportional to fitness. (the idea is: good parents have even better children)."
   ]
  },
  {
   "cell_type": "code",
   "execution_count": 11,
   "metadata": {},
   "outputs": [],
   "source": [
    "def roulette_selection(population: Population, fitness: FitnessFunc) -> IndividualPair:\n",
    "    # Pick 2 parents with fitter parents having greater chance of being chosen:\n",
    "    parents = random.choices(\n",
    "        population=population,\n",
    "        weights=[fitness(individual) for individual in population],\n",
    "        k = 2\n",
    "    )\n",
    "    return parents[0], parents[1]"
   ]
  },
  {
   "attachments": {},
   "cell_type": "markdown",
   "metadata": {},
   "source": [
    "## Crowding:\n",
    "\n",
    "the algorithm founds a much better solution that drowns out the other candidates. How to avoid this (increase diversity)?\n",
    "\n",
    "- mutation: \n",
    "- switch to rank selection: (pick individual based on rank instead of fitness)\n",
    "- fitness sharing: (reduce fitness of individiual if there are already similar solutions in the population)"
   ]
  },
  {
   "attachments": {},
   "cell_type": "markdown",
   "metadata": {},
   "source": [
    "### Crossover:\n",
    "\n",
    "\n",
    "Ordered crossover: decide a random split point, take segment of Parent A before the split point, plus all the remaining elements of Parent B.\n",
    "\n",
    "- Parent A: **731**52684\n",
    "- Parent B: **8**7**26**1**4**3**5** \n",
    "- Child  X: **73182645**"
   ]
  },
  {
   "cell_type": "code",
   "execution_count": 12,
   "metadata": {},
   "outputs": [],
   "source": [
    "def ordered_crossover(parents: IndividualPair) -> IndividualPair:\n",
    "    parent_a, parent_b = parents\n",
    "    split_idx = random.randint(1,len(parent_a) -1)\n",
    "    offspring_x = parent_a[:split_idx] + list(\n",
    "        filter(lambda pos: pos not in parent_a[:split_idx], parent_b)\n",
    "    )\n",
    "    offspring_y = parent_b[:split_idx] + list(\n",
    "        filter(lambda pos: pos not in parent_b[:split_idx], parent_a)\n",
    "    )\n",
    "    return offspring_x, offspring_y\n",
    "\n"
   ]
  },
  {
   "attachments": {},
   "cell_type": "markdown",
   "metadata": {},
   "source": [
    "### Mutation:\n",
    "- simply swap elements of an individual\n",
    "- probability is a hyperparameter of the algorithm (tuneable)\n"
   ]
  },
  {
   "cell_type": "code",
   "execution_count": 13,
   "metadata": {},
   "outputs": [],
   "source": [
    "def swap_mutation(individual: Individual, probability: float) -> Individual:\n",
    "    if random.random() <= probability:\n",
    "        pos1 = random.randint(0,len(individual) - 1)\n",
    "        pos2 = random.randint(0,len(individual) - 1)\n",
    "        individual[pos1], individual[pos2] = individual[pos2], individual[pos1]\n",
    "    return individual"
   ]
  },
  {
   "cell_type": "code",
   "execution_count": 16,
   "metadata": {},
   "outputs": [],
   "source": [
    "# how many individuals\n",
    "# individual_length: 8\n",
    "# fitness_limit = 0 # want an optimal solution\n",
    "# mutation_prob = \n",
    "# n_iter = generations (hyperparam)\n",
    "# elites = number of fittest individuals kept in the next generation (hyperparam)\n",
    "def run_evolution(pop_size: int, individual_length: int, fitness_limit: int = 0, \\\n",
    "    mutation_prob: float = 0.3, n_elites: int = 10, n_iter: int = 1000) -> Individual:\n",
    "    \n",
    "    population = generate_population(pop_size, individual_length)\n",
    "    for i in range(n_iter):\n",
    "        population = sorted(population, key=fitness)\n",
    "        print(f\"Generation:{i} - best fitness:{fitness(population[0])}\")\n",
    "        if fitness(population[0]) <= fitness_limit:\n",
    "            break\n",
    "        population = compute_next_generation(population, mutation_prob, n_elites)\n",
    "    return sorted(population, key=fitness)[0]\n",
    "\n",
    "def compute_next_generation(population: Population, mutation_prob: float = 0.3,\\\n",
    "    n_elites: int = 10) -> Population:\n",
    "    next_generation = population[:n_elites]\n",
    "    for _ in range(int((len(population)  - n_elites)/ 2)):\n",
    "        parents = roulette_selection(population, fitness)\n",
    "        offspring = ordered_crossover(parents)\n",
    "        next_generation += map(\n",
    "            partial(swap_mutation, probability=mutation_prob), offspring\n",
    "        )\n",
    "    return next_generation"
   ]
  },
  {
   "attachments": {},
   "cell_type": "markdown",
   "metadata": {},
   "source": [
    "### Elitism: \n",
    "\n",
    "- the fittest individuals are guaranteed a place in the next generation - won't lose the best solution.\n",
    "\n",
    "## Running the Simulation:\n"
   ]
  },
  {
   "cell_type": "code",
   "execution_count": 33,
   "metadata": {},
   "outputs": [
    {
     "name": "stdout",
     "output_type": "stream",
     "text": [
      "Generation:0 - best fitness:1\n",
      "Generation:1 - best fitness:1\n",
      "Generation:2 - best fitness:1\n",
      "Generation:3 - best fitness:1\n",
      "Generation:4 - best fitness:0\n",
      "[5, 2, 4, 7, 3, 8, 6, 1]\n"
     ]
    }
   ],
   "source": [
    "random.seed(123)\n",
    "result = run_evolution(100,8)\n",
    "print(result)"
   ]
  }
 ],
 "metadata": {
  "kernelspec": {
   "display_name": "Python 3",
   "language": "python",
   "name": "python3"
  },
  "language_info": {
   "codemirror_mode": {
    "name": "ipython",
    "version": 3
   },
   "file_extension": ".py",
   "mimetype": "text/x-python",
   "name": "python",
   "nbconvert_exporter": "python",
   "pygments_lexer": "ipython3",
   "version": "3.10.8"
  },
  "orig_nbformat": 4,
  "vscode": {
   "interpreter": {
    "hash": "b04851fa392ae01d9a3096b72422877db8c18b3f48c82dbc740f35c8fae62965"
   }
  }
 },
 "nbformat": 4,
 "nbformat_minor": 2
}
