{
  "cells": [
    {
      "cell_type": "markdown",
      "metadata": {
        "colab_type": "text",
        "id": "view-in-github"
      },
      "source": [
        "<a href=\"https://colab.research.google.com/github/erno-szabados/openvino-notebooks/blob/main/PythonCodeExplainer.ipynb\" target=\"_parent\"><img src=\"https://colab.research.google.com/assets/colab-badge.svg\" alt=\"Open In Colab\"/></a>"
      ]
    },
    {
      "cell_type": "code",
      "execution_count": null,
      "metadata": {
        "colab": {
          "base_uri": "https://localhost:8080/"
        },
        "id": "82leBSBjFFSO",
        "outputId": "9e8c16df-4296-4c3d-a79f-b2bf1dbb7669"
      },
      "outputs": [],
      "source": [
        "%pip install transformers \n",
        "%pip install torch torchvision torchaudio --extra-index-url https://download.pytorch.org/whl/cpu\n",
        "\n"
      ]
    },
    {
      "cell_type": "code",
      "execution_count": null,
      "metadata": {
        "id": "3I_em_67ErTB"
      },
      "outputs": [],
      "source": [
        "from transformers import (\n",
        "    AutoModelForSeq2SeqLM,\n",
        "    AutoTokenizer,\n",
        "    AutoConfig,\n",
        "    pipeline,\n",
        ")\n",
        "\n",
        "model_name = \"sagard21/python-code-explainer\"\n",
        "\n",
        "tokenizer = AutoTokenizer.from_pretrained(model_name, padding=True)\n",
        "\n",
        "model = AutoModelForSeq2SeqLM.from_pretrained(model_name)\n",
        "\n",
        "config = AutoConfig.from_pretrained(model_name)\n",
        "\n",
        "model.eval()\n",
        "\n",
        "pipe = pipeline(\"summarization\", model=model_name, config=config, tokenizer=tokenizer)"
      ]
    },
    {
      "cell_type": "code",
      "execution_count": null,
      "metadata": {
        "colab": {
          "base_uri": "https://localhost:8080/"
        },
        "id": "AeRaB138GRKE",
        "outputId": "2e46440c-15cb-4a6f-f127-f79027d074e6"
      },
      "outputs": [],
      "source": [
        "!mkdir -p content\n",
        "!wget -O content/huffman.py https://raw.githubusercontent.com/erno-szabados/huffman/main/huffman.py\n",
        "\n",
        "file_path = './content/huffman.py'\n",
        "\n",
        "with open(file_path) as file:\n",
        "  raw_code = file.read()\n",
        "  print(pipe(raw_code)[0][\"summary_text\"])"
      ]
    }
  ],
  "metadata": {
    "colab": {
      "authorship_tag": "ABX9TyOlu//AMgyyv2dFfVG/hyux",
      "include_colab_link": true,
      "provenance": []
    },
    "kernelspec": {
      "display_name": "Python 3",
      "language": "python",
      "name": "python3"
    },
    "language_info": {
      "codemirror_mode": {
        "name": "ipython",
        "version": 3
      },
      "file_extension": ".py",
      "mimetype": "text/x-python",
      "name": "python",
      "nbconvert_exporter": "python",
      "pygments_lexer": "ipython3",
      "version": "3.10.6"
    },
    "vscode": {
      "interpreter": {
        "hash": "916dbcbb3f70747c44a77c7bcd40155683ae19c65e1c03b4aa3499c5328201f1"
      }
    }
  },
  "nbformat": 4,
  "nbformat_minor": 0
}
