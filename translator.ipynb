{
 "cells": [
  {
   "attachments": {},
   "cell_type": "markdown",
   "metadata": {},
   "source": [
    "### Többnyelvű fordító (NYTK M2M100)\n"
   ]
  },
  {
   "cell_type": "code",
   "execution_count": null,
   "metadata": {},
   "outputs": [],
   "source": [
    "%pip install gradio transformers torch sentencepiece"
   ]
  },
  {
   "cell_type": "code",
   "execution_count": null,
   "metadata": {},
   "outputs": [],
   "source": [
    "import gradio as gr\n",
    "import torch\n",
    "from transformers import M2M100ForConditionalGeneration, M2M100Tokenizer\n",
    "\n",
    "''' \n",
    "Source language: Bulgarian (bg), Czech (cs), German (de), English (en), Croatian (hr), Polish, (pl), Romanian (ro), Russian (ru), Slovak (sk), \n",
    "Slovene (sl), Serbian (sr), Ukrainian (uk) \n",
    "'''\n",
    "mname=\"NYTK/translation-m2m100-1.2B-multi12-hungarian\"\n",
    "#mname = \"facebook/m2m100_418M\"\n",
    "\n",
    "device = torch.device(\"cuda\" if torch.cuda.is_available() else \"cpu\")\n",
    "\n",
    "model = M2M100ForConditionalGeneration.from_pretrained(mname).to(device)\n",
    "tokenizer = M2M100Tokenizer.from_pretrained(mname)\n",
    "\n",
    "def predict(text, source_lang):\n",
    "    tokenizer.src_lang = source_lang\n",
    "    encoded_text = tokenizer(text, return_tensors=\"pt\").to(device)\n",
    "    generated_tokens = model.generate(**encoded_text, forced_bos_token_id=tokenizer.get_lang_id(\"hu\"))\n",
    "    return tokenizer.batch_decode(generated_tokens, skip_special_tokens=True)[0]\n",
    "\n",
    "with gr.Blocks() as demo:    \n",
    "    label = gr.Label(\"Többnyelvű fordító (NYTK M2M100)\")    \n",
    "    source_language = gr.Dropdown(choices=[\"bg\", \"cs\", \"de\", \"en\", \"hr\", \"pl\", \"ro\", \"ru\", \"sk\", \"sl\", \"sr\"], type='value', label=\"Forrás nyelv\")\n",
    "    input_text = gr.Textbox(label=\"Bemenet\")\n",
    "    output_text = gr.Textbox(label=\"Fordítás\")\n",
    "    translate_btn = gr.Button(\"Fordítás\")\n",
    "    translate_btn.click(fn=predict, inputs=[input_text,source_language], outputs=output_text)\n",
    "    reflink = gr.HTML('<a href=\"https://github.com/nytud/machine-translation\">GitHub Repo</a>')\n",
    "\n",
    "demo.title = \"Többnyelvű fordító\"\n",
    "demo.launch()"
   ]
  }
 ],
 "metadata": {
  "kernelspec": {
   "display_name": "Python 3",
   "language": "python",
   "name": "python3"
  },
  "language_info": {
   "codemirror_mode": {
    "name": "ipython",
    "version": 3
   },
   "file_extension": ".py",
   "mimetype": "text/x-python",
   "name": "python",
   "nbconvert_exporter": "python",
   "pygments_lexer": "ipython3",
   "version": "3.8.16"
  },
  "orig_nbformat": 4,
  "vscode": {
   "interpreter": {
    "hash": "05e01d957773f145f3b87ca84dd5aa773c6315c0ba78d21477460c3931107413"
   }
  }
 },
 "nbformat": 4,
 "nbformat_minor": 2
}
